{
 "cells": [
  {
   "cell_type": "markdown",
   "metadata": {},
   "source": [
    "# Gradient Descent\n",
    "## Faqih Mahardika (21/482551/PA21039)"
   ]
  },
  {
   "cell_type": "markdown",
   "metadata": {},
   "source": [
    "### Import dependencies"
   ]
  },
  {
   "cell_type": "code",
   "execution_count": 1,
   "metadata": {},
   "outputs": [],
   "source": [
    "import matplotlib.pyplot as plt\n",
    "from mpl_toolkits import mplot3d\n",
    "import numpy as np\n",
    "import os \n"
   ]
  },
  {
   "cell_type": "markdown",
   "metadata": {},
   "source": [
    "### Variables\n"
   ]
  },
  {
   "cell_type": "markdown",
   "metadata": {},
   "source": [
    "n = number of neuron in hidden layer <br>\n",
    "wb = weights and bias at end <br>\n",
    "dwb = derivatives of weights and bias at end <br>\n",
    "h = delta for gradient descent"
   ]
  },
  {
   "cell_type": "code",
   "execution_count": 2,
   "metadata": {},
   "outputs": [],
   "source": [
    "t = [1,2,3,4,5,6]\n",
    "y = [100,500,600,200,400,300]\n",
    "yp = [0] * len(y)\n",
    "w1,w2,b = 0.1,0.1,0.1\n",
    "dw1,dw2,db = 0.1,0.1,0.1\n",
    "h = 10 **(-8)"
   ]
  },
  {
   "cell_type": "code",
   "execution_count": 3,
   "metadata": {},
   "outputs": [],
   "source": [
    "# storing epoch data history\n",
    "alpha = 10 **(-8)\n",
    "w1s = []\n",
    "w2s = []\n",
    "wbs = []\n",
    "yps = []\n",
    "SEs = []\n",
    "norm_ds = []"
   ]
  },
  {
   "cell_type": "markdown",
   "metadata": {},
   "source": [
    "## functions"
   ]
  },
  {
   "cell_type": "code",
   "execution_count": 4,
   "metadata": {},
   "outputs": [],
   "source": [
    "def yp_(i):\n",
    "    global w1,w2,b,yp,y\n",
    "    if i < 2:\n",
    "        return y[i]\n",
    "    else:\n",
    "        return w1*yp[i-1] + w2*yp[i-2] + b"
   ]
  },
  {
   "cell_type": "code",
   "execution_count": 5,
   "metadata": {},
   "outputs": [],
   "source": [
    "def SE_():\n",
    "    sum = 0\n",
    "    for i, val in enumerate(yp):\n",
    "        yp[i] = yp_(i)\n",
    "        sum += (yp[i]-y[i])**2\n",
    "    return sum"
   ]
  },
  {
   "cell_type": "code",
   "execution_count": 6,
   "metadata": {},
   "outputs": [],
   "source": [
    "def grad_():\n",
    "    global w1,w2,b,dw1,dw2,db\n",
    "    temp = w1\n",
    "\n",
    "    w1 = temp + h\n",
    "    SE1 = SE_()\n",
    "    w1 = temp - h\n",
    "    SE2 = SE_()\n",
    "\n",
    "    dw1 = (SE1 - SE2)/(2*h)\n",
    "    w1 = temp\n",
    "    temp = w2\n",
    "    \n",
    "    w2 = temp + h\n",
    "    SE1 = SE_()\n",
    "    w2 = temp - h\n",
    "    SE2 = SE_()\n",
    "\n",
    "    dw2 = (SE1 - SE2)/(2*h)\n",
    "    w2 = temp\n",
    "    temp = b\n",
    "\n",
    "    b = temp + h\n",
    "    SE1 = SE_()\n",
    "    b = temp - h\n",
    "    SE2 = SE_()\n",
    "\n",
    "    db = (SE1 - SE2)/(2*h)\n",
    "    b = temp\n"
   ]
  },
  {
   "cell_type": "code",
   "execution_count": 7,
   "metadata": {},
   "outputs": [],
   "source": [
    "def update_weight():\n",
    "    global w1,w2,b,dw1,dw2,db,alpha\n",
    "    w1 = w1 - (alpha*dw1)\n",
    "    w2 = w2 - (alpha*dw2)\n",
    "    b = b - (alpha*db)\n"
   ]
  },
  {
   "cell_type": "code",
   "execution_count": 8,
   "metadata": {},
   "outputs": [],
   "source": [
    "def norm_d():\n",
    "    return (dw1*dw1 + dw2*dw2 + db*db)**(1/2)"
   ]
  },
  {
   "cell_type": "code",
   "execution_count": 9,
   "metadata": {},
   "outputs": [
    {
     "name": "stdout",
     "output_type": "stream",
     "text": [
      "61280.286657039986\n",
      "42.20390249725613\n"
     ]
    },
    {
     "ename": "KeyboardInterrupt",
     "evalue": "",
     "output_type": "error",
     "traceback": [
      "\u001b[0;31m---------------------------------------------------------------------------\u001b[0m",
      "\u001b[0;31mKeyboardInterrupt\u001b[0m                         Traceback (most recent call last)",
      "Cell \u001b[0;32mIn[9], line 16\u001b[0m\n\u001b[1;32m     14\u001b[0m norm_d_ \u001b[38;5;241m=\u001b[39m norm_d()\n\u001b[1;32m     15\u001b[0m \u001b[38;5;28mprint\u001b[39m(norm_d_)\n\u001b[0;32m---> 16\u001b[0m \u001b[43mtime\u001b[49m\u001b[38;5;241;43m.\u001b[39;49m\u001b[43msleep\u001b[49m\u001b[43m(\u001b[49m\u001b[38;5;241;43m0.1\u001b[39;49m\u001b[43m)\u001b[49m  \u001b[38;5;66;03m# Add a short delay to see the output (optional)\u001b[39;00m\n",
      "\u001b[0;31mKeyboardInterrupt\u001b[0m: "
     ]
    }
   ],
   "source": [
    "from IPython.display import clear_output\n",
    "import time\n",
    "\n",
    "norm_d_ = 1  # Initialize norm_d_ to start the loop\n",
    "\n",
    "while norm_d_ > 10**(-5):  # Continue until the gradient norm is small enough\n",
    "    clear_output(wait=True)  # Clear the previous output\n",
    "    grad_()\n",
    "    update_weight()\n",
    "    print(SE_())\n",
    "    w1s.append(w1)\n",
    "    w2s.append(w2)\n",
    "    SEs.append(SE_())\n",
    "    norm_d_ = norm_d()\n",
    "    print(norm_d_)\n",
    "    time.sleep(0.1)  # Add a short delay to see the output (optional)\n"
   ]
  },
  {
   "cell_type": "code",
   "execution_count": 6,
   "metadata": {},
   "outputs": [
    {
     "ename": "NameError",
     "evalue": "name 'SEs' is not defined",
     "output_type": "error",
     "traceback": [
      "\u001b[0;31m---------------------------------------------------------------------------\u001b[0m",
      "\u001b[0;31mNameError\u001b[0m                                 Traceback (most recent call last)",
      "Cell \u001b[0;32mIn[6], line 1\u001b[0m\n\u001b[0;32m----> 1\u001b[0m \u001b[38;5;28mprint\u001b[39m(\u001b[43mSEs\u001b[49m\u001b[38;5;241m.\u001b[39mhead())\n",
      "\u001b[0;31mNameError\u001b[0m: name 'SEs' is not defined"
     ]
    }
   ],
   "source": [
    "print(SEs.head())"
   ]
  },
  {
   "cell_type": "markdown",
   "metadata": {},
   "source": [
    "## plots"
   ]
  },
  {
   "cell_type": "code",
   "execution_count": 4,
   "metadata": {},
   "outputs": [],
   "source": [
    "def plot_SEs(SEs):\n",
    "    plt.figure(figsize=(10, 6))\n",
    "    plt.plot(SEs, marker='o', linestyle='-', color='b', label='Sum of Squared Errors (SEs)')\n",
    "    plt.title('Sum of Squared Errors (SEs) Over Epochs')\n",
    "    plt.xlabel('Epoch')\n",
    "    plt.ylabel('SEs')\n",
    "    plt.grid(True)\n",
    "    plt.legend()\n",
    "    plt.show()"
   ]
  },
  {
   "cell_type": "code",
   "execution_count": 5,
   "metadata": {},
   "outputs": [
    {
     "ename": "NameError",
     "evalue": "name 'SEs' is not defined",
     "output_type": "error",
     "traceback": [
      "\u001b[0;31m---------------------------------------------------------------------------\u001b[0m",
      "\u001b[0;31mNameError\u001b[0m                                 Traceback (most recent call last)",
      "Cell \u001b[0;32mIn[5], line 1\u001b[0m\n\u001b[0;32m----> 1\u001b[0m plot_SEs(\u001b[43mSEs\u001b[49m)\n",
      "\u001b[0;31mNameError\u001b[0m: name 'SEs' is not defined"
     ]
    }
   ],
   "source": [
    "plot_SEs(SEs)"
   ]
  },
  {
   "cell_type": "markdown",
   "metadata": {},
   "source": [
    "## 3d plot"
   ]
  },
  {
   "cell_type": "code",
   "execution_count": 62,
   "metadata": {},
   "outputs": [],
   "source": [
    "X, Y = np.meshgrid(w1, w2)\n",
    "Z = np.random.random(X.shape) \n"
   ]
  },
  {
   "cell_type": "code",
   "execution_count": null,
   "metadata": {},
   "outputs": [],
   "source": [
    "Z_ = np.meshgrid(SEs)"
   ]
  },
  {
   "cell_type": "code",
   "execution_count": null,
   "metadata": {},
   "outputs": [],
   "source": [
    "print(Z)"
   ]
  },
  {
   "cell_type": "code",
   "execution_count": null,
   "metadata": {},
   "outputs": [],
   "source": [
    "# Plotting the 3D mesh plot\n",
    "fig = plt.figure()\n",
    "ax = fig.add_subplot(111, projection='3d')\n",
    "\n",
    "# Plot the surface\n",
    "ax.plot_surface(X, Y, SEs, cmap='viridis')\n",
    "\n",
    "# Labels and title\n",
    "ax.set_xlabel('Weight 1 (WBs[0])')\n",
    "ax.set_ylabel('Weight 2 (WBs[1])')\n",
    "ax.set_zlabel('Squared Error (SE)')\n",
    "ax.set_title('Squared Error for Different Weight Combinations')"
   ]
  }
 ],
 "metadata": {
  "kernelspec": {
   "display_name": "Python 3",
   "language": "python",
   "name": "python3"
  },
  "language_info": {
   "codemirror_mode": {
    "name": "ipython",
    "version": 3
   },
   "file_extension": ".py",
   "mimetype": "text/x-python",
   "name": "python",
   "nbconvert_exporter": "python",
   "pygments_lexer": "ipython3",
   "version": "3.10.12"
  }
 },
 "nbformat": 4,
 "nbformat_minor": 2
}
